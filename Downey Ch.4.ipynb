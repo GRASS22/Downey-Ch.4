{
 "cells": [
  {
   "cell_type": "code",
   "execution_count": 1,
   "id": "9442d1a2",
   "metadata": {},
   "outputs": [],
   "source": [
    "from os.path import basename, exists\n",
    "\n",
    "def download(url):\n",
    "    filename = basename(url)\n",
    "    if not exists(filename):\n",
    "        from urllib.request import urlretrieve\n",
    "        local, _ = urlretrieve(url, filename)\n",
    "        print('Downloaded ' + local)\n",
    "    \n",
    "download('https://github.com/AllenDowney/ThinkComplexity2/raw/master/notebooks/utils.py')"
   ]
  },
  {
   "cell_type": "code",
   "execution_count": 2,
   "id": "22de6b5c",
   "metadata": {},
   "outputs": [],
   "source": [
    "import matplotlib.pyplot as plt\n",
    "import networkx as nx\n",
    "import numpy as np\n",
    "import seaborn as sns\n",
    "\n",
    "from utils import decorate, savefig\n",
    "\n",
    "# Set the random seed so the notebook \n",
    "# produces the same results every time.\n",
    "np.random.seed(17)"
   ]
  },
  {
   "cell_type": "code",
   "execution_count": 3,
   "id": "f7ece29f",
   "metadata": {},
   "outputs": [],
   "source": [
    "# make a directory for figures\n",
    "!mkdir -p figs"
   ]
  },
  {
   "cell_type": "code",
   "execution_count": 4,
   "id": "0e6a0fe3",
   "metadata": {},
   "outputs": [],
   "source": [
    "def read_graph(filename):\n",
    "    G = nx.Graph()\n",
    "    array = np.loadtxt(filename, dtype=int)\n",
    "    G.add_edges_from(array)\n",
    "    return G"
   ]
  },
  {
   "cell_type": "code",
   "execution_count": 5,
   "id": "209d04e8",
   "metadata": {},
   "outputs": [
    {
     "name": "stdout",
     "output_type": "stream",
     "text": [
      "Downloaded facebook_combined.txt.gz\n"
     ]
    }
   ],
   "source": [
    "download('https://snap.stanford.edu/data/facebook_combined.txt.gz')"
   ]
  },
  {
   "cell_type": "code",
   "execution_count": 6,
   "id": "4cd5c1b7",
   "metadata": {},
   "outputs": [
    {
     "data": {
      "text/plain": [
       "(4039, 88234)"
      ]
     },
     "execution_count": 6,
     "metadata": {},
     "output_type": "execute_result"
    }
   ],
   "source": [
    "fb = read_graph('facebook_combined.txt.gz')\n",
    "n = len(fb)\n",
    "m = len(fb.edges())\n",
    "n, m"
   ]
  },
  {
   "cell_type": "code",
   "execution_count": 7,
   "id": "da35d92f",
   "metadata": {},
   "outputs": [],
   "source": [
    "from networkx.algorithms.approximation import average_clustering"
   ]
  },
  {
   "cell_type": "code",
   "execution_count": 8,
   "id": "e0b789b0",
   "metadata": {},
   "outputs": [],
   "source": [
    "def sample_path_lengths(G, nodes=None, trials=1000):\n",
    "    \"\"\"Choose random pairs of nodes and compute the path length between them.\n",
    "\n",
    "    G: Graph\n",
    "    nodes: list of nodes to choose from\n",
    "    trials: number of pairs to choose\n",
    "\n",
    "    returns: list of path lengths\n",
    "    \"\"\"\n",
    "    if nodes is None:\n",
    "        nodes = list(G)\n",
    "    else:\n",
    "        nodes = list(nodes)\n",
    "        \n",
    "    pairs = np.random.choice(nodes, (trials, 2))\n",
    "    lengths = [nx.shortest_path_length(G, *pair) \n",
    "               for pair in pairs]\n",
    "    return lengths"
   ]
  },
  {
   "cell_type": "code",
   "execution_count": 9,
   "id": "f09e99f0",
   "metadata": {},
   "outputs": [],
   "source": [
    "def estimate_path_length(G, nodes=None, trials=1000):\n",
    "    return np.mean(sample_path_lengths(G, nodes, trials))"
   ]
  },
  {
   "cell_type": "code",
   "execution_count": 10,
   "id": "5a923f7d",
   "metadata": {},
   "outputs": [
    {
     "data": {
      "text/plain": [
       "0.6"
      ]
     },
     "execution_count": 10,
     "metadata": {},
     "output_type": "execute_result"
    }
   ],
   "source": [
    "C = average_clustering(fb)\n",
    "C"
   ]
  },
  {
   "cell_type": "code",
   "execution_count": 11,
   "id": "a6a7f35e",
   "metadata": {},
   "outputs": [
    {
     "data": {
      "text/plain": [
       "3.717"
      ]
     },
     "execution_count": 11,
     "metadata": {},
     "output_type": "execute_result"
    }
   ],
   "source": [
    "L = estimate_path_length(fb)\n",
    "L"
   ]
  },
  {
   "cell_type": "code",
   "execution_count": 12,
   "id": "c66176eb",
   "metadata": {},
   "outputs": [
    {
     "data": {
      "text/plain": [
       "44"
      ]
     },
     "execution_count": 12,
     "metadata": {},
     "output_type": "execute_result"
    }
   ],
   "source": [
    "n = len(fb)\n",
    "m = len(fb.edges())\n",
    "k = int(round(2*m/n))\n",
    "k"
   ]
  },
  {
   "cell_type": "code",
   "execution_count": 13,
   "id": "044add76",
   "metadata": {},
   "outputs": [
    {
     "data": {
      "text/plain": [
       "(4039, 88858)"
      ]
     },
     "execution_count": 13,
     "metadata": {},
     "output_type": "execute_result"
    }
   ],
   "source": [
    "lattice = nx.watts_strogatz_graph(n, k, p=0)\n",
    "len(lattice), len(lattice.edges())"
   ]
  },
  {
   "cell_type": "code",
   "execution_count": 14,
   "id": "957d7e43",
   "metadata": {},
   "outputs": [
    {
     "data": {
      "text/plain": [
       "(0.6, 0.705)"
      ]
     },
     "execution_count": 14,
     "metadata": {},
     "output_type": "execute_result"
    }
   ],
   "source": [
    "C, average_clustering(lattice)"
   ]
  },
  {
   "cell_type": "code",
   "execution_count": 15,
   "id": "d389a7be",
   "metadata": {},
   "outputs": [
    {
     "data": {
      "text/plain": [
       "(3.717, 47.088)"
      ]
     },
     "execution_count": 15,
     "metadata": {},
     "output_type": "execute_result"
    }
   ],
   "source": [
    "L, estimate_path_length(lattice)"
   ]
  },
  {
   "cell_type": "code",
   "execution_count": 16,
   "id": "b6439c4e",
   "metadata": {},
   "outputs": [],
   "source": [
    "random_graph = nx.watts_strogatz_graph(n, k, p=1)"
   ]
  },
  {
   "cell_type": "code",
   "execution_count": 17,
   "id": "3c865a88",
   "metadata": {},
   "outputs": [
    {
     "data": {
      "text/plain": [
       "(0.6, 0.012)"
      ]
     },
     "execution_count": 17,
     "metadata": {},
     "output_type": "execute_result"
    }
   ],
   "source": [
    "C, average_clustering(random_graph)"
   ]
  },
  {
   "cell_type": "code",
   "execution_count": 18,
   "id": "f33ba625",
   "metadata": {},
   "outputs": [
    {
     "data": {
      "text/plain": [
       "(3.717, 2.609)"
      ]
     },
     "execution_count": 18,
     "metadata": {},
     "output_type": "execute_result"
    }
   ],
   "source": [
    "L, estimate_path_length(random_graph)"
   ]
  },
  {
   "cell_type": "code",
   "execution_count": 19,
   "id": "e1056bec",
   "metadata": {},
   "outputs": [],
   "source": [
    "ws = nx.watts_strogatz_graph(n, k, 0.05, seed=15)"
   ]
  },
  {
   "cell_type": "code",
   "execution_count": 20,
   "id": "219d232d",
   "metadata": {},
   "outputs": [
    {
     "data": {
      "text/plain": [
       "(0.6, 0.636)"
      ]
     },
     "execution_count": 20,
     "metadata": {},
     "output_type": "execute_result"
    }
   ],
   "source": [
    "C, average_clustering(ws)"
   ]
  },
  {
   "cell_type": "code",
   "execution_count": 21,
   "id": "848c3b22",
   "metadata": {},
   "outputs": [
    {
     "data": {
      "text/plain": [
       "(3.717, 3.264)"
      ]
     },
     "execution_count": 21,
     "metadata": {},
     "output_type": "execute_result"
    }
   ],
   "source": [
    "L, estimate_path_length(ws)"
   ]
  },
  {
   "cell_type": "code",
   "execution_count": 22,
   "id": "ee6fa277",
   "metadata": {},
   "outputs": [],
   "source": [
    "def degrees(G):\n",
    "    \"\"\"List of degrees for nodes in `G`.\n",
    "    \n",
    "    G: Graph object\n",
    "    \n",
    "    returns: list of int\n",
    "    \"\"\"\n",
    "    return [G.degree(u) for u in G]"
   ]
  },
  {
   "cell_type": "code",
   "execution_count": 23,
   "id": "6fbe495f",
   "metadata": {},
   "outputs": [
    {
     "data": {
      "text/plain": [
       "(43.69101262688784, 44.0)"
      ]
     },
     "execution_count": 23,
     "metadata": {},
     "output_type": "execute_result"
    }
   ],
   "source": [
    "np.mean(degrees(fb)), np.mean(degrees(ws))"
   ]
  },
  {
   "cell_type": "code",
   "execution_count": 24,
   "id": "abb5948a",
   "metadata": {},
   "outputs": [
    {
     "data": {
      "text/plain": [
       "(52.41411556737521, 1.4309215628189869)"
      ]
     },
     "execution_count": 24,
     "metadata": {},
     "output_type": "execute_result"
    }
   ],
   "source": [
    "np.std(degrees(fb)), np.std(degrees(ws))"
   ]
  },
  {
   "cell_type": "code",
   "execution_count": 25,
   "id": "94b0e50c",
   "metadata": {},
   "outputs": [
    {
     "data": {
      "image/png": "[encoded data removed]",
      "text/plain": [
       "<Figure size 432x288 with 1 Axes>"
      ]
     },
     "metadata": {},
     "output_type": "display_data"
    }
   ],
   "source": [
    "G = nx.Graph()\n",
    "G.add_edge(1, 0)\n",
    "G.add_edge(2, 0)\n",
    "G.add_edge(3, 0)\n",
    "nx.draw(G)"
   ]
  },
  {
   "cell_type": "code",
   "execution_count": 26,
   "id": "a0433068",
   "metadata": {},
   "outputs": [
    {
     "data": {
      "text/plain": [
       "[1, 3, 1, 1]"
      ]
     },
     "execution_count": 26,
     "metadata": {},
     "output_type": "execute_result"
    }
   ],
   "source": [
    "degrees(G)"
   ]
  },
  {
   "cell_type": "code",
   "execution_count": 27,
   "id": "e3ba990f",
   "metadata": {},
   "outputs": [
    {
     "name": "stdout",
     "output_type": "stream",
     "text": [
      "Collecting empiricaldist\n",
      "  Downloading empiricaldist-0.6.2.tar.gz (9.5 kB)\n",
      "Building wheels for collected packages: empiricaldist\n",
      "  Building wheel for empiricaldist (setup.py) ... \u001b[?25ldone\n",
      "\u001b[?25h  Created wheel for empiricaldist: filename=empiricaldist-0.6.2-py3-none-any.whl size=10737 sha256=f06761168def8f66065483d4163ed456687ececb237b08d422346afa09a12e8c\n",
      "  Stored in directory: /Users/dianagrass/Library/Caches/pip/wheels/18/e0/a6/839fd86a0ceef3dff1f5b6fded43422d9da39b4d8c32bf4c3b\n",
      "Successfully built empiricaldist\n",
      "Installing collected packages: empiricaldist\n",
      "Successfully installed empiricaldist-0.6.2\n"
     ]
    }
   ],
   "source": [
    "try:\n",
    "    import empiricaldist\n",
    "except ImportError:\n",
    "    !pip install empiricaldist"
   ]
  },
  {
   "cell_type": "code",
   "execution_count": 28,
   "id": "69d11dbe",
   "metadata": {},
   "outputs": [
    {
     "data": {
      "text/html": [
       "<div>\n",
       "<style scoped>\n",
       "    .dataframe tbody tr th:only-of-type {\n",
       "        vertical-align: middle;\n",
       "    }\n",
       "\n",
       "    .dataframe tbody tr th {\n",
       "        vertical-align: top;\n",
       "    }\n",
       "\n",
       "    .dataframe thead th {\n",
       "        text-align: right;\n",
       "    }\n",
       "</style>\n",
       "<table border=\"1\" class=\"dataframe\">\n",
       "  <thead>\n",
       "    <tr style=\"text-align: right;\">\n",
       "      <th></th>\n",
       "      <th>probs</th>\n",
       "    </tr>\n",
       "  </thead>\n",
       "  <tbody>\n",
       "    <tr>\n",
       "      <th>1</th>\n",
       "      <td>0.75</td>\n",
       "    </tr>\n",
       "    <tr>\n",
       "      <th>3</th>\n",
       "      <td>0.25</td>\n",
       "    </tr>\n",
       "  </tbody>\n",
       "</table>\n",
       "</div>"
      ],
      "text/plain": [
       "1    0.75\n",
       "3    0.25\n",
       "Name: , dtype: float64"
      ]
     },
     "execution_count": 28,
     "metadata": {},
     "output_type": "execute_result"
    }
   ],
   "source": [
    "from empiricaldist import Pmf\n",
    "\n",
    "pmf = Pmf.from_seq(degrees(G))\n",
    "pmf"
   ]
  },
  {
   "cell_type": "code",
   "execution_count": 29,
   "id": "68d87794",
   "metadata": {},
   "outputs": [
    {
     "data": {
      "image/png": "[encoded data removed]",
      "text/plain": [
       "<Figure size 432x288 with 1 Axes>"
      ]
     },
     "metadata": {
      "needs_background": "light"
     },
     "output_type": "display_data"
    }
   ],
   "source": [
    "pmf.bar()\n",
    "decorate(xlabel='Degree',\n",
    "         ylabel='Pmf')"
   ]
  },
  {
   "cell_type": "code",
   "execution_count": 30,
   "id": "cc4d93e3",
   "metadata": {},
   "outputs": [
    {
     "data": {
      "text/plain": [
       "(43.69101262688785, 52.41411556737521)"
      ]
     },
     "execution_count": 30,
     "metadata": {},
     "output_type": "execute_result"
    }
   ],
   "source": [
    "pmf_fb = Pmf.from_seq(degrees(fb))\n",
    "pmf_fb.mean(), pmf_fb.std()"
   ]
  },
  {
   "cell_type": "code",
   "execution_count": 31,
   "id": "ff3edffd",
   "metadata": {},
   "outputs": [
    {
     "data": {
      "text/plain": [
       "(44.00000000000001, 1.4309215628189869)"
      ]
     },
     "execution_count": 31,
     "metadata": {},
     "output_type": "execute_result"
    }
   ],
   "source": [
    "pmf_ws = Pmf.from_seq(degrees(ws))\n",
    "pmf_ws.mean(), pmf_ws.std()"
   ]
  },
  {
   "cell_type": "code",
   "execution_count": 32,
   "id": "8152bdd7",
   "metadata": {},
   "outputs": [
    {
     "data": {
      "text/plain": [
       "(44.00000000000001, 1.4309215628189869)"
      ]
     },
     "execution_count": 32,
     "metadata": {},
     "output_type": "execute_result"
    }
   ],
   "source": [
    "pmf_ws = Pmf.from_seq(degrees(ws))\n",
    "pmf_ws.mean(), pmf_ws.std()"
   ]
  },
  {
   "cell_type": "code",
   "execution_count": 33,
   "id": "ce156fbb",
   "metadata": {},
   "outputs": [
    {
     "data": {
      "text/plain": [
       "(0.018568952711067097, 0)"
      ]
     },
     "execution_count": 33,
     "metadata": {},
     "output_type": "execute_result"
    }
   ],
   "source": [
    "pmf_fb(1), pmf_ws(1)"
   ]
  },
  {
   "cell_type": "code",
   "execution_count": 34,
   "id": "94f2c3d5",
   "metadata": {},
   "outputs": [
    {
     "name": "stdout",
     "output_type": "stream",
     "text": [
      "Saving figure to file figs/chap04-1\n"
     ]
    },
    {
     "data": {
      "image/png": "[encoded data removed]",
      "text/plain": [
       "<Figure size 576x288 with 2 Axes>"
      ]
     },
     "metadata": {
      "needs_background": "light"
     },
     "output_type": "display_data"
    }
   ],
   "source": [
    "plt.figure(figsize=(8,4))\n",
    "\n",
    "plt.subplot(1,2,1)\n",
    "pmf_fb.plot(label='Facebook', color='C0')\n",
    "decorate(xlabel='Degree', ylabel='PMF')\n",
    "\n",
    "plt.subplot(1,2,2)\n",
    "pmf_ws.plot(label='WS graph', color='C1')\n",
    "decorate(xlabel='Degree')\n",
    "\n",
    "savefig('figs/chap04-1')"
   ]
  },
  {
   "cell_type": "code",
   "execution_count": 35,
   "id": "b64c2213",
   "metadata": {},
   "outputs": [
    {
     "name": "stdout",
     "output_type": "stream",
     "text": [
      "Saving figure to file figs/chap04-2\n"
     ]
    },
    {
     "data": {
      "image/png": "[encoded data removed]",
      "text/plain": [
       "<Figure size 576x288 with 2 Axes>"
      ]
     },
     "metadata": {
      "needs_background": "light"
     },
     "output_type": "display_data"
    }
   ],
   "source": [
    "plt.figure(figsize=(8,4))\n",
    "options = dict(ls='', marker='.')\n",
    "\n",
    "plt.subplot(1,2,1)\n",
    "plt.plot([20, 1000], [5e-2, 2e-4], color='gray', linestyle='dashed')\n",
    "\n",
    "pmf_fb.plot(label='Facebook', color='C0', **options)\n",
    "decorate(xscale='log', yscale='log',\n",
    "         xlabel='Degree', ylabel='PMF')\n",
    "\n",
    "plt.subplot(1,2,2)\n",
    "pmf_ws.plot(label='WS graph', color='C1', **options)\n",
    "decorate(xlim=[35, 55], \n",
    "         xscale='log', yscale='log',\n",
    "         xlabel='Degree')\n",
    "\n",
    "savefig('figs/chap04-2')"
   ]
  },
  {
   "cell_type": "code",
   "execution_count": 36,
   "id": "f00c17e8",
   "metadata": {},
   "outputs": [],
   "source": [
    "import random\n",
    "\n",
    "def barabasi_albert_graph(n, k, seed=None):\n",
    "    \"\"\"Constructs a BA graph.\n",
    "    \n",
    "    n: number of nodes\n",
    "    k: number of edges for each new node\n",
    "    seed: random seen\n",
    "    \"\"\"\n",
    "    if seed is not None:\n",
    "        random.seed(seed)\n",
    "    \n",
    "    G = nx.empty_graph(k)\n",
    "    targets = set(range(k))\n",
    "    repeated_nodes = []\n",
    "\n",
    "    for source in range(k, n):\n",
    "\n",
    "        G.add_edges_from(zip([source]*k, targets))\n",
    "\n",
    "        repeated_nodes.extend(targets)\n",
    "        repeated_nodes.extend([source] * k)\n",
    "\n",
    "        targets = _random_subset(repeated_nodes, k)\n",
    "\n",
    "    return G"
   ]
  },
  {
   "cell_type": "code",
   "execution_count": 37,
   "id": "379c46e4",
   "metadata": {},
   "outputs": [],
   "source": [
    "def _random_subset(repeated_nodes, k):\n",
    "    \"\"\"Select a random subset of nodes without repeating.\n",
    "    \n",
    "    repeated_nodes: list of nodes\n",
    "    k: size of set\n",
    "    \n",
    "    returns: set of nodes\n",
    "    \"\"\"\n",
    "    targets = set()\n",
    "    while len(targets) < k:\n",
    "        x = random.choice(repeated_nodes)\n",
    "        targets.add(x)\n",
    "    return targets"
   ]
  },
  {
   "cell_type": "code",
   "execution_count": 38,
   "id": "22dc56ed",
   "metadata": {},
   "outputs": [
    {
     "data": {
      "text/plain": [
       "(4039, 88234, 22)"
      ]
     },
     "execution_count": 38,
     "metadata": {},
     "output_type": "execute_result"
    }
   ],
   "source": [
    "n = len(fb)\n",
    "m = len(fb.edges())\n",
    "k = int(round(m/n))\n",
    "n, m, k"
   ]
  },
  {
   "cell_type": "code",
   "execution_count": 39,
   "id": "30a3ad89",
   "metadata": {},
   "outputs": [],
   "source": [
    "ba = barabasi_albert_graph(n, k, seed=15)"
   ]
  },
  {
   "cell_type": "code",
   "execution_count": 40,
   "id": "7c9b86f9",
   "metadata": {},
   "outputs": [
    {
     "data": {
      "text/plain": [
       "(4039, 88374, 21.88016835850458)"
      ]
     },
     "execution_count": 40,
     "metadata": {},
     "output_type": "execute_result"
    }
   ],
   "source": [
    "len(ba), len(ba.edges()), len(ba.edges())/len(ba)"
   ]
  },
  {
   "cell_type": "code",
   "execution_count": 41,
   "id": "fbdd3b73",
   "metadata": {},
   "outputs": [
    {
     "data": {
      "text/plain": [
       "(43.69101262688784, 43.76033671700916)"
      ]
     },
     "execution_count": 41,
     "metadata": {},
     "output_type": "execute_result"
    }
   ],
   "source": [
    "np.mean(degrees(fb)), np.mean(degrees(ba))"
   ]
  },
  {
   "cell_type": "code",
   "execution_count": 42,
   "id": "c12368ef",
   "metadata": {},
   "outputs": [
    {
     "data": {
      "text/plain": [
       "(52.41411556737521, 41.03760075705614)"
      ]
     },
     "execution_count": 42,
     "metadata": {},
     "output_type": "execute_result"
    }
   ],
   "source": [
    "np.std(degrees(fb)), np.std(degrees(ba))"
   ]
  },
  {
   "cell_type": "code",
   "execution_count": 43,
   "id": "99662233",
   "metadata": {},
   "outputs": [],
   "source": [
    "pmf_ba = Pmf.from_seq(degrees(ba))"
   ]
  },
  {
   "cell_type": "code",
   "execution_count": 44,
   "id": "5b6080c9",
   "metadata": {},
   "outputs": [
    {
     "data": {
      "image/png": "[encoded data removed]",
      "text/plain": [
       "<Figure size 576x288 with 2 Axes>"
      ]
     },
     "metadata": {
      "needs_background": "light"
     },
     "output_type": "display_data"
    }
   ],
   "source": [
    "plt.figure(figsize=(8,4))\n",
    "\n",
    "plt.subplot(1,2,1)\n",
    "pmf_fb.plot(label='Facebook', color='C0')\n",
    "decorate(xlabel='Degree', ylabel='PMF')\n",
    "\n",
    "plt.subplot(1,2,2)\n",
    "pmf_ba.plot(label='BA graph', color='C2')\n",
    "decorate(xlabel='Degree')"
   ]
  },
  {
   "cell_type": "code",
   "execution_count": 45,
   "id": "0beee9d6",
   "metadata": {},
   "outputs": [
    {
     "name": "stdout",
     "output_type": "stream",
     "text": [
      "Saving figure to file figs/chap04-3\n"
     ]
    },
    {
     "data": {
      "image/png": "[encoded data removed]",
      "text/plain": [
       "<Figure size 576x288 with 2 Axes>"
      ]
     },
     "metadata": {
      "needs_background": "light"
     },
     "output_type": "display_data"
    }
   ],
   "source": [
    "plt.figure(figsize=(8,4))\n",
    "options = dict(ls='', marker='.')\n",
    "\n",
    "plt.subplot(1,2,1)\n",
    "\n",
    "pmf_fb.plot(label='Facebook', color='C0', **options)\n",
    "decorate(xlabel='Degree', ylabel='PMF',\n",
    "         xscale='log', yscale='log')\n",
    "\n",
    "plt.subplot(1,2,2)\n",
    "\n",
    "pmf_ba.plot(label='BA model', color='C2', **options)\n",
    "decorate(xlabel='Degree',\n",
    "         xlim=[1, 1e4],\n",
    "         xscale='log', yscale='log')\n",
    "\n",
    "savefig('figs/chap04-3')"
   ]
  },
  {
   "cell_type": "code",
   "execution_count": 46,
   "id": "1073524f",
   "metadata": {},
   "outputs": [
    {
     "data": {
      "text/plain": [
       "(3.717, 2.481)"
      ]
     },
     "execution_count": 46,
     "metadata": {},
     "output_type": "execute_result"
    }
   ],
   "source": [
    "L, estimate_path_length(ba)"
   ]
  },
  {
   "cell_type": "code",
   "execution_count": 47,
   "id": "1da84951",
   "metadata": {},
   "outputs": [
    {
     "data": {
      "text/plain": [
       "(0.6, 0.048)"
      ]
     },
     "execution_count": 47,
     "metadata": {},
     "output_type": "execute_result"
    }
   ],
   "source": [
    "C, average_clustering(ba)"
   ]
  },
  {
   "cell_type": "code",
   "execution_count": 48,
   "id": "daa9d113",
   "metadata": {},
   "outputs": [],
   "source": [
    "def cumulative_prob(pmf, x):\n",
    "    \"\"\"Computes the cumulative probability of `x`.\n",
    "    \n",
    "    Total probability of all values <= x.\n",
    "    \n",
    "    returns: float probability\n",
    "    \"\"\"\n",
    "    ps = [pmf[value] for value in pmf.qs if value<=x]\n",
    "    return np.sum(ps)"
   ]
  },
  {
   "cell_type": "code",
   "execution_count": 49,
   "id": "43b2543e",
   "metadata": {},
   "outputs": [
    {
     "data": {
      "text/plain": [
       "0.2577370636296113"
      ]
     },
     "execution_count": 49,
     "metadata": {},
     "output_type": "execute_result"
    }
   ],
   "source": [
    "cumulative_prob(pmf_fb, 11)"
   ]
  },
  {
   "cell_type": "code",
   "execution_count": 50,
   "id": "333f9520",
   "metadata": {},
   "outputs": [
    {
     "data": {
      "text/plain": [
       "0.5060658578856152"
      ]
     },
     "execution_count": 50,
     "metadata": {},
     "output_type": "execute_result"
    }
   ],
   "source": [
    "cumulative_prob(pmf_fb, 25)"
   ]
  },
  {
   "cell_type": "code",
   "execution_count": 51,
   "id": "8d45d06d",
   "metadata": {},
   "outputs": [
    {
     "data": {
      "text/plain": [
       "0.751671205743996"
      ]
     },
     "execution_count": 51,
     "metadata": {},
     "output_type": "execute_result"
    }
   ],
   "source": [
    "cumulative_prob(pmf_fb, 57)"
   ]
  },
  {
   "cell_type": "code",
   "execution_count": 52,
   "id": "006f10b9",
   "metadata": {},
   "outputs": [],
   "source": [
    "from empiricaldist import Cdf"
   ]
  },
  {
   "cell_type": "code",
   "execution_count": null,
   "id": "ae8c1cf5",
   "metadata": {},
   "outputs": [],
   "source": []
  }
 ],
 "metadata": {
  "kernelspec": {
   "display_name": "Python 3 (ipykernel)",
   "language": "python",
   "name": "python3"
  },
  "language_info": {
   "codemirror_mode": {
    "name": "ipython",
    "version": 3
   },
   "file_extension": ".py",
   "mimetype": "text/x-python",
   "name": "python",
   "nbconvert_exporter": "python",
   "pygments_lexer": "ipython3",
   "version": "3.9.7"
  }
 },
 "nbformat": 4,
 "nbformat_minor": 5
}
